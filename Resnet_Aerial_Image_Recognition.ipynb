{
  "nbformat": 4,
  "nbformat_minor": 0,
  "metadata": {
    "kernelspec": {
      "display_name": "Python 3",
      "language": "python",
      "name": "python3"
    },
    "language_info": {
      "codemirror_mode": {
        "name": "ipython",
        "version": 3
      },
      "file_extension": ".py",
      "mimetype": "text/x-python",
      "name": "python",
      "nbconvert_exporter": "python",
      "pygments_lexer": "ipython3",
      "version": "3.8.6"
    },
    "colab": {
      "name": "Resnet-Aerial Image Recognition.ipynb",
      "provenance": [],
      "collapsed_sections": [
        "hr2okOEwAbUf",
        "HzsT9kWdAbUk",
        "IQRLOJyPSVkc"
      ],
      "toc_visible": true,
      "include_colab_link": true
    },
    "accelerator": "GPU"
  },
  "cells": [
    {
      "cell_type": "markdown",
      "metadata": {
        "id": "view-in-github",
        "colab_type": "text"
      },
      "source": [
        "<a href=\"https://colab.research.google.com/github/xiaoya27/Aerial-Image-Recognition/blob/main/Resnet_Aerial_Image_Recognition.ipynb\" target=\"_parent\"><img src=\"https://colab.research.google.com/assets/colab-badge.svg\" alt=\"Open In Colab\"/></a>"
      ]
    },
    {
      "cell_type": "markdown",
      "metadata": {
        "id": "ciutS3R-AbUT"
      },
      "source": [
        "# Aerial imagery Project"
      ]
    },
    {
      "cell_type": "code",
      "metadata": {
        "colab": {
          "base_uri": "https://localhost:8080/"
        },
        "id": "bKnScagFTeIT",
        "outputId": "4797506d-33e8-4ead-ca02-1a14f0199ecc"
      },
      "source": [
        "from google.colab import drive\n",
        "drive.mount('/content/drive')"
      ],
      "execution_count": 1,
      "outputs": [
        {
          "output_type": "stream",
          "text": [
            "Mounted at /content/drive\n"
          ],
          "name": "stdout"
        }
      ]
    },
    {
      "cell_type": "markdown",
      "metadata": {
        "id": "hr2okOEwAbUf"
      },
      "source": [
        "### Step1 : Install Requirements \n"
      ]
    },
    {
      "cell_type": "code",
      "metadata": {
        "id": "M3Q20uZlij2Y"
      },
      "source": [
        "!pip install neptune-client==0.4.130\r\n",
        "\r\n",
        "import neptune\r\n",
        "from google.colab import output\r\n",
        "output.clear() "
      ],
      "execution_count": 3,
      "outputs": []
    },
    {
      "cell_type": "code",
      "metadata": {
        "id": "8MZmGYXtAbUf",
        "colab": {
          "base_uri": "https://localhost:8080/"
        },
        "outputId": "5117abcc-7235-4df8-cbaf-c568792289ec"
      },
      "source": [
        "%cd /content/drive/MyDrive/workingfolder/2021/starting_kit/"
      ],
      "execution_count": 4,
      "outputs": [
        {
          "output_type": "stream",
          "text": [
            "/content/drive/MyDrive/workingfolder/2021/starting_kit\n"
          ],
          "name": "stdout"
        }
      ]
    },
    {
      "cell_type": "code",
      "metadata": {
        "colab": {
          "base_uri": "https://localhost:8080/"
        },
        "id": "s2CilwrhiytB",
        "outputId": "b42d15d1-928e-4a62-e119-440ecdf0701c"
      },
      "source": [
        "neptune.init(\r\n",
        "    api_token=\"xxx\",\r\n",
        "    project_qualified_name=\"xiaoya27/AerialImageClassification\"\r\n",
        ")"
      ],
      "execution_count": 5,
      "outputs": [
        {
          "output_type": "execute_result",
          "data": {
            "text/plain": [
              "Project(xiaoya27/AerialImageClassification)"
            ]
          },
          "metadata": {
            "tags": []
          },
          "execution_count": 5
        }
      ]
    },
    {
      "cell_type": "code",
      "metadata": {
        "id": "lvg3FbP1AbUg"
      },
      "source": [
        "import numpy as np\n",
        "import random\n",
        "import re\n",
        "from matplotlib import pyplot as plt"
      ],
      "execution_count": 6,
      "outputs": []
    },
    {
      "cell_type": "code",
      "metadata": {
        "id": "WME90f50AbUg"
      },
      "source": [
        "scene_class = ['beach', 'chaparral','cloud','desert','forest','island','lake','meadow','mountain','river','sea','snowberg','wetland']\n",
        "model_dir = \"sample_code_submission\"\n",
        "result_dir = 'sample_result_submission/' \n",
        "problem_dir = 'ingestion_program/'  \n",
        "score_dir = 'scoring_program/'\n",
        "from sys import path; path.append(model_dir); path.append(problem_dir); path.append(score_dir)"
      ],
      "execution_count": 7,
      "outputs": []
    },
    {
      "cell_type": "code",
      "metadata": {
        "id": "_87P-1wkq3o7"
      },
      "source": [
        "def data_loading():\r\n",
        "  #data_dir = 'sample_data'\r\n",
        "  data_dir = '../public_data' # download \"public_data\" from the challenge website\r\n",
        "  data_name = 'Areal'\r\n",
        "  from data_manager import DataManager\r\n",
        "  D = DataManager(data_name, data_dir, replace_missing=False, verbose=True)\r\n",
        "  print(D)\r\n",
        "  X_train = D.data['X_train']\r\n",
        "  Y_train = D.data['Y_train']\r\n",
        "  X_valid = D.data['X_valid']\r\n",
        "  X_test = D.data['X_test']\r\n",
        "  with open('data.npy', 'wb') as f:\r\n",
        "      np.save(f, X_train)\r\n",
        "      np.save(f, Y_train)\r\n",
        "      np.save(f, X_valid )\r\n",
        "      np.save(f, X_test)"
      ],
      "execution_count": 8,
      "outputs": []
    },
    {
      "cell_type": "code",
      "metadata": {
        "id": "GOrt6PerMwdB"
      },
      "source": [
        "# run it once\r\n",
        "#data_loading()"
      ],
      "execution_count": 9,
      "outputs": []
    },
    {
      "cell_type": "code",
      "metadata": {
        "id": "FRqQL39fMzbe"
      },
      "source": [
        "with open('data.npy', 'rb') as f:\r\n",
        "    X_train = np.load(f)\r\n",
        "    Y_train = np.load(f)\r\n",
        "    X_valid = np.load(f)\r\n",
        "    X_test = np.load(f)"
      ],
      "execution_count": 10,
      "outputs": []
    },
    {
      "cell_type": "code",
      "metadata": {
        "colab": {
          "base_uri": "https://localhost:8080/"
        },
        "id": "qiGqpMpRmQjK",
        "outputId": "82a66ba9-e5c1-444c-df51-b307f3e25827"
      },
      "source": [
        "Y_train.shape"
      ],
      "execution_count": 11,
      "outputs": [
        {
          "output_type": "execute_result",
          "data": {
            "text/plain": [
              "(5200, 1)"
            ]
          },
          "metadata": {
            "tags": []
          },
          "execution_count": 11
        }
      ]
    },
    {
      "cell_type": "code",
      "metadata": {
        "id": "zrTM3z-levXt"
      },
      "source": [
        "val_percent = 0.05\r\n",
        "train_size=int((1-val_percent)*len(X_train))"
      ],
      "execution_count": 12,
      "outputs": []
    },
    {
      "cell_type": "code",
      "metadata": {
        "id": "fTZ6ui2HORPd"
      },
      "source": [
        "#data_dir = 'sample_data'\r\n",
        "data_dir = '../public_data' # download \"public_data\" from the challenge website\r\n",
        "data_name = 'Areal'"
      ],
      "execution_count": 13,
      "outputs": []
    },
    {
      "cell_type": "markdown",
      "metadata": {
        "id": "QvReAXpWh4k7"
      },
      "source": [
        ""
      ]
    },
    {
      "cell_type": "code",
      "metadata": {
        "id": "GBpyWbCXh4-H"
      },
      "source": [
        "\r\n",
        "params={}\r\n",
        "params['batch_size']=16\r\n",
        "params['val_percent']=val_percent\r\n",
        "\r\n"
      ],
      "execution_count": 14,
      "outputs": []
    },
    {
      "cell_type": "markdown",
      "metadata": {
        "id": "HzsT9kWdAbUk"
      },
      "source": [
        "### Step 2 : Building training dataset"
      ]
    },
    {
      "cell_type": "code",
      "metadata": {
        "id": "4rL9sJGk_ejq",
        "colab": {
          "base_uri": "https://localhost:8080/"
        },
        "outputId": "1df6b351-dfae-49fd-875f-e8699986eefc"
      },
      "source": [
        "#X_train.reshape((5200,128,128,3))\r\n",
        "\r\n",
        "%tensorflow_version 2.x\r\n",
        "import tensorflow as tf\r\n",
        "print(\"Tensorflow version \" + tf.__version__)\r\n",
        "\r\n",
        "from tensorflow.keras.applications import ResNet50 as ResNet\r\n",
        "\r\n",
        "feature_extractor_name='ResNet'"
      ],
      "execution_count": 15,
      "outputs": [
        {
          "output_type": "stream",
          "text": [
            "Tensorflow version 2.4.0\n"
          ],
          "name": "stdout"
        }
      ]
    },
    {
      "cell_type": "code",
      "metadata": {
        "id": "UZdYYigqmMH4"
      },
      "source": [
        "# check AUTOTUNE in https://www.tensorflow.org/guide/data_performance"
      ],
      "execution_count": 16,
      "outputs": []
    },
    {
      "cell_type": "code",
      "metadata": {
        "id": "DUNVP_2-jE-Z"
      },
      "source": [
        "#View images from the dataset\r\n",
        "\r\n",
        "def view_image(ds):\r\n",
        "    image, label = next(iter(ds)) # extract 1 batch from the dataset\r\n",
        "    image = image.numpy()\r\n",
        "    label = label.numpy()\r\n",
        "\r\n",
        "    fig = plt.figure(figsize=(22,11))\r\n",
        "    for i in range(8):\r\n",
        "        ax = fig.add_subplot(2, 4, i+1, xticks=[], yticks=[])\r\n",
        "        ax.imshow(image[i])\r\n",
        "        ax.set_title(f\"Label: {label[i]}\")"
      ],
      "execution_count": 17,
      "outputs": []
    },
    {
      "cell_type": "code",
      "metadata": {
        "id": "DedZ8PbFk5pt"
      },
      "source": [
        "#view_image(dataset)"
      ],
      "execution_count": 18,
      "outputs": []
    },
    {
      "cell_type": "code",
      "metadata": {
        "id": "B99Qz-hFSUy5"
      },
      "source": [
        "def process_image(image, label):\r\n",
        "    # cast and normalize image\r\n",
        "    image = tf.reshape(image, (128,128,3))\r\n",
        "    image = tf.image.resize(image, [224, 224],method='nearest')\r\n",
        "    image = tf.image.convert_image_dtype(image, tf.float32)\r\n",
        "    image = tf.image.random_flip_left_right(image)\r\n",
        "    image = tf.keras.applications.resnet.preprocess_input(image)\r\n",
        "    return image, label\r\n",
        "\r\n",
        "\r\n",
        "dataset = tf.data.Dataset.from_tensor_slices((X_train, Y_train)).shuffle(buffer_size=1024)\r\n"
      ],
      "execution_count": 19,
      "outputs": []
    },
    {
      "cell_type": "code",
      "metadata": {
        "id": "BKtSPImiegaR"
      },
      "source": [
        "train_dataset = dataset.take(train_size)\r\n",
        "val_dataset = dataset.skip(train_size)\r\n",
        "\r\n",
        "train_dataset = dataset.map(process_image).batch(params['batch_size']).cache().prefetch(tf.data.experimental.AUTOTUNE)\r\n",
        "\r\n",
        "val_dataset = dataset.map(process_image).batch(params['batch_size']).cache().prefetch(tf.data.experimental.AUTOTUNE)"
      ],
      "execution_count": 20,
      "outputs": []
    },
    {
      "cell_type": "code",
      "metadata": {
        "colab": {
          "base_uri": "https://localhost:8080/"
        },
        "id": "2PbPxpOdi5tS",
        "outputId": "d446a7d2-f284-44a8-da55-cae79d34ed00"
      },
      "source": [
        "from tensorflow.keras.callbacks import Callback\r\n",
        "class NeptuneLogger(Callback):\r\n",
        "\r\n",
        "    def on_batch_end(self, batch, logs={}):\r\n",
        "        for log_name, log_value in logs.items():\r\n",
        "            neptune.log_metric(f'batch_{log_name}', log_value)\r\n",
        "\r\n",
        "    def on_epoch_end(self, epoch, logs={}):\r\n",
        "        for log_name, log_value in logs.items():\r\n",
        "            neptune.log_metric(f'epoch_{log_name}', log_value)\r\n",
        "\r\n",
        "neptune.create_experiment(name='Aerial-image',\r\n",
        "                          params=params,\r\n",
        "                          tags=['Tensorflow',feature_extractor_name],\r\n",
        "                          )"
      ],
      "execution_count": 21,
      "outputs": [
        {
          "output_type": "stream",
          "text": [
            "https://ui.neptune.ai/xiaoya27/AerialImageClassification/e/AER-6\n"
          ],
          "name": "stdout"
        },
        {
          "output_type": "execute_result",
          "data": {
            "text/plain": [
              "Experiment(AER-6)"
            ]
          },
          "metadata": {
            "tags": []
          },
          "execution_count": 21
        }
      ]
    },
    {
      "cell_type": "markdown",
      "metadata": {
        "id": "IQRLOJyPSVkc"
      },
      "source": [
        "### Step 3 . Building&training model"
      ]
    },
    {
      "cell_type": "code",
      "metadata": {
        "id": "VxobL70wSZrc",
        "colab": {
          "base_uri": "https://localhost:8080/"
        },
        "outputId": "4625af6e-e4d1-4ffd-c91c-0a707a1f754c"
      },
      "source": [
        "feature_extractor = ResNet(input_shape=(224,224,3),\r\n",
        "                                          include_top=False,\r\n",
        "                                          weights='imagenet')\r\n",
        "# what is input shape of backend model\r\n",
        "from tensorflow.keras import layers\r\n",
        "\r\n",
        "data_augmentation = tf.keras.Sequential([\r\n",
        "                                          layers.experimental.preprocessing.RandomFlip(\"horizontal_and_vertical\"),\r\n",
        "                                          layers.experimental.preprocessing.RandomRotation(0.2),])\r\n",
        "input = tf.keras.Input(shape=(224,224,3))\r\n",
        "x = data_augmentation(input)\r\n",
        "x = feature_extractor(input,training=True)\r\n",
        "\r\n",
        "x = tf.keras.layers.GlobalAveragePooling2D()(x)\r\n",
        "x = tf.keras.layers.Flatten()(x)\r\n",
        "x = tf.keras.layers.Dense(1024, activation=\"relu\")(x)\r\n",
        "x = tf.keras.layers.Dense(512, activation=\"relu\")(x)\r\n",
        "x = tf.keras.layers.Dense(13, activation=\"softmax\", name=\"classification\")(x)                                  \r\n",
        "\r\n",
        "checkpoint_path = \"training_res_1/cp.ckpt\""
      ],
      "execution_count": 22,
      "outputs": [
        {
          "output_type": "stream",
          "text": [
            "Downloading data from https://storage.googleapis.com/tensorflow/keras-applications/resnet/resnet50_weights_tf_dim_ordering_tf_kernels_notop.h5\n",
            "94773248/94765736 [==============================] - 1s 0us/step\n"
          ],
          "name": "stdout"
        }
      ]
    },
    {
      "cell_type": "code",
      "metadata": {
        "colab": {
          "base_uri": "https://localhost:8080/"
        },
        "id": "gPf8DmjUSZvA",
        "outputId": "e62f78ef-71ce-4e69-dcdf-04d8641bdb8c"
      },
      "source": [
        "cp_callback = tf.keras.callbacks.ModelCheckpoint(filepath=checkpoint_path,\r\n",
        "                                                 save_weights_only=True,\r\n",
        "                                                 verbose=1)\r\n",
        "\r\n",
        "with tf.device('/device:GPU:0'):\r\n",
        "  model = tf.keras.Model(inputs=input, outputs=x)\r\n",
        "\r\n",
        "  model.compile(optimizer='adam', loss='sparse_categorical_crossentropy', metrics='accuracy', run_eagerly=True)\r\n",
        "  model.fit(train_dataset,\r\n",
        "            epochs=15,\r\n",
        "            validation_data=val_dataset,\r\n",
        "            callbacks=[cp_callback,NeptuneLogger()]\r\n",
        "            )\r\n",
        "# TBC https://colab.research.google.com/github/tensorflow/docs/blob/master/site/en/tutorials/images/transfer_learning.ipynb#scrollTo=DgzQX6Veb2WT"
      ],
      "execution_count": 23,
      "outputs": [
        {
          "output_type": "stream",
          "text": [
            "Epoch 1/15\n",
            "325/325 [==============================] - 114s 329ms/step - loss: 2.1354 - accuracy: 0.2796 - val_loss: 1.5990 - val_accuracy: 0.4333\n",
            "\n",
            "Epoch 00001: saving model to training_res_1/cp.ckpt\n",
            "Epoch 2/15\n",
            "325/325 [==============================] - 96s 295ms/step - loss: 1.4782 - accuracy: 0.4754 - val_loss: 1.2916 - val_accuracy: 0.5556\n",
            "\n",
            "Epoch 00002: saving model to training_res_1/cp.ckpt\n",
            "Epoch 3/15\n",
            "325/325 [==============================] - 95s 294ms/step - loss: 1.1420 - accuracy: 0.6206 - val_loss: 1.0208 - val_accuracy: 0.6552\n",
            "\n",
            "Epoch 00003: saving model to training_res_1/cp.ckpt\n",
            "Epoch 4/15\n",
            "325/325 [==============================] - 95s 294ms/step - loss: 0.9755 - accuracy: 0.6775 - val_loss: 0.8231 - val_accuracy: 0.7267\n",
            "\n",
            "Epoch 00004: saving model to training_res_1/cp.ckpt\n",
            "Epoch 5/15\n",
            "325/325 [==============================] - 95s 294ms/step - loss: 0.8171 - accuracy: 0.7166 - val_loss: 0.7860 - val_accuracy: 0.7229\n",
            "\n",
            "Epoch 00005: saving model to training_res_1/cp.ckpt\n",
            "Epoch 6/15\n",
            "325/325 [==============================] - 95s 294ms/step - loss: 0.7256 - accuracy: 0.7561 - val_loss: 0.7444 - val_accuracy: 0.7471\n",
            "\n",
            "Epoch 00006: saving model to training_res_1/cp.ckpt\n",
            "Epoch 7/15\n",
            "325/325 [==============================] - 96s 294ms/step - loss: 0.6408 - accuracy: 0.7857 - val_loss: 0.6421 - val_accuracy: 0.7769\n",
            "\n",
            "Epoch 00007: saving model to training_res_1/cp.ckpt\n",
            "Epoch 8/15\n",
            "325/325 [==============================] - 95s 294ms/step - loss: 0.5342 - accuracy: 0.8279 - val_loss: 0.6492 - val_accuracy: 0.7827\n",
            "\n",
            "Epoch 00008: saving model to training_res_1/cp.ckpt\n",
            "Epoch 9/15\n",
            "325/325 [==============================] - 96s 294ms/step - loss: 0.4761 - accuracy: 0.8395 - val_loss: 0.5938 - val_accuracy: 0.8054\n",
            "\n",
            "Epoch 00009: saving model to training_res_1/cp.ckpt\n",
            "Epoch 10/15\n",
            "325/325 [==============================] - 96s 294ms/step - loss: 0.4296 - accuracy: 0.8530 - val_loss: 0.6408 - val_accuracy: 0.7896\n",
            "\n",
            "Epoch 00010: saving model to training_res_1/cp.ckpt\n",
            "Epoch 11/15\n",
            "325/325 [==============================] - 95s 294ms/step - loss: 0.3693 - accuracy: 0.8726 - val_loss: 0.5277 - val_accuracy: 0.8313\n",
            "\n",
            "Epoch 00011: saving model to training_res_1/cp.ckpt\n",
            "Epoch 12/15\n",
            "325/325 [==============================] - 95s 294ms/step - loss: 0.3335 - accuracy: 0.8856 - val_loss: 0.4921 - val_accuracy: 0.8442\n",
            "\n",
            "Epoch 00012: saving model to training_res_1/cp.ckpt\n",
            "Epoch 13/15\n",
            "325/325 [==============================] - 96s 294ms/step - loss: 0.2607 - accuracy: 0.9088 - val_loss: 0.7738 - val_accuracy: 0.7963\n",
            "\n",
            "Epoch 00013: saving model to training_res_1/cp.ckpt\n",
            "Epoch 14/15\n",
            "325/325 [==============================] - 95s 294ms/step - loss: 0.2529 - accuracy: 0.9125 - val_loss: 0.5472 - val_accuracy: 0.8412\n",
            "\n",
            "Epoch 00014: saving model to training_res_1/cp.ckpt\n",
            "Epoch 15/15\n",
            "325/325 [==============================] - 95s 294ms/step - loss: 0.2021 - accuracy: 0.9229 - val_loss: 0.5927 - val_accuracy: 0.8287\n",
            "\n",
            "Epoch 00015: saving model to training_res_1/cp.ckpt\n"
          ],
          "name": "stdout"
        }
      ]
    },
    {
      "cell_type": "code",
      "metadata": {
        "id": "T2ZnUowZu0PB"
      },
      "source": [
        "neptune.stop()"
      ],
      "execution_count": 24,
      "outputs": []
    }
  ]
}